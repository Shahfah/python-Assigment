{
 "cells": [
  {
   "cell_type": "code",
   "execution_count": 1,
   "id": "51eac17b",
   "metadata": {},
   "outputs": [
    {
     "name": "stdout",
     "output_type": "stream",
     "text": [
      "Current Time : 23:43:04\n",
      "Current Date : 01:01:2022\n"
     ]
    }
   ],
   "source": [
    "import time\n",
    "print(\"Current Time : \"+time.strftime(\"%H:%M:%S\"));\n",
    "print(\"Current Date : \"+time.strftime(\"%d:%m:%Y\"));"
   ]
  },
  {
   "cell_type": "code",
   "execution_count": null,
   "id": "58cab0cb",
   "metadata": {},
   "outputs": [],
   "source": []
  }
 ],
 "metadata": {
  "kernelspec": {
   "display_name": "Python 3 (ipykernel)",
   "language": "python",
   "name": "python3"
  },
  "language_info": {
   "codemirror_mode": {
    "name": "ipython",
    "version": 3
   },
   "file_extension": ".py",
   "mimetype": "text/x-python",
   "name": "python",
   "nbconvert_exporter": "python",
   "pygments_lexer": "ipython3",
   "version": "3.9.7"
  }
 },
 "nbformat": 4,
 "nbformat_minor": 5
}
