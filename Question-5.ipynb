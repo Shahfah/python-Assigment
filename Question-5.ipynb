{
 "cells": [
  {
   "cell_type": "code",
   "execution_count": 2,
   "id": "7995ec32",
   "metadata": {},
   "outputs": [
    {
     "name": "stdout",
     "output_type": "stream",
     "text": [
      "Enter Your First Name : Fahad\n",
      "Enter Your Last Name : Shehzad\n",
      "Your Name is : Shehzad Fahad\n"
     ]
    }
   ],
   "source": [
    "firstname= input(\"Enter Your First Name : \");\n",
    "lastname= input(\"Enter Your Last Name : \");\n",
    "print(\"Your Name is : \" +lastname +\" \" +firstname);"
   ]
  },
  {
   "cell_type": "code",
   "execution_count": null,
   "id": "ea18a202",
   "metadata": {},
   "outputs": [],
   "source": []
  }
 ],
 "metadata": {
  "kernelspec": {
   "display_name": "Python 3 (ipykernel)",
   "language": "python",
   "name": "python3"
  },
  "language_info": {
   "codemirror_mode": {
    "name": "ipython",
    "version": 3
   },
   "file_extension": ".py",
   "mimetype": "text/x-python",
   "name": "python",
   "nbconvert_exporter": "python",
   "pygments_lexer": "ipython3",
   "version": "3.9.7"
  }
 },
 "nbformat": 4,
 "nbformat_minor": 5
}
